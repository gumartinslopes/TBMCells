{
 "cells": [
  {
   "cell_type": "code",
   "execution_count": 4,
   "metadata": {},
   "outputs": [],
   "source": [
    "import cv2\n",
    "import sys\n",
    "sys.path.append('../../scripts')\n",
    "from utils import *\n",
    "from segmentation_utils import *\n",
    "from metrics import *"
   ]
  },
  {
   "cell_type": "code",
   "execution_count": 5,
   "metadata": {},
   "outputs": [],
   "source": [
    "def compute_metrics(pred, gt):\n",
    "    true_positive_img = cv2.bitwise_and(pred, gt)\n",
    "    false_negative_img = apply_open(cv2.bitwise_xor(gt, true_positive_img))\n",
    "    false_positive_img = apply_open(cv2.bitwise_xor(pred, true_positive_img))\n",
    "    true_positive =cv2.connectedComponents(apply_open(true_positive_img))[0]\n",
    "    false_negative = cv2.connectedComponents(false_negative_img)[0]\n",
    "    false_positive = cv2.connectedComponents(false_positive_img)[0]\n",
    "    return true_positive, false_negative, false_positive"
   ]
  },
  {
   "cell_type": "code",
   "execution_count": 6,
   "metadata": {},
   "outputs": [
    {
     "data": {
      "text/plain": [
       "(0.7932432432432432, 0.8813813813813813, 0.8349928876244664)"
      ]
     },
     "execution_count": 6,
     "metadata": {},
     "output_type": "execute_result"
    }
   ],
   "source": [
    "tp_list, fn_list, fp_list = [], [], []\n",
    "\n",
    "for i in range(2,11):\n",
    "    pred = cv2.imread(f'./results/disf_tbm/{i}.png', cv2.IMREAD_GRAYSCALE)\n",
    "    gt = cv2.imread(f'./cells_dataset/labels/{i}.png', cv2.IMREAD_GRAYSCALE)\n",
    "    tp, fn, fp = compute_metrics(pred, gt)\n",
    "    tp_list.append(tp)\n",
    "    fn_list.append(fn)\n",
    "    fp_list.append(fp)\n",
    "precision = calculate_precision(sum(tp_list),sum(fp_list))\n",
    "recall = calculate_recall(sum(tp_list),sum(fn_list))\n",
    "f1_score = calculate_f1_score(precision, recall)\n",
    "precision, recall, f1_score"
   ]
  }
 ],
 "metadata": {
  "kernelspec": {
   "display_name": "ptk_veenv",
   "language": "python",
   "name": "python3"
  },
  "language_info": {
   "codemirror_mode": {
    "name": "ipython",
    "version": 3
   },
   "file_extension": ".py",
   "mimetype": "text/x-python",
   "name": "python",
   "nbconvert_exporter": "python",
   "pygments_lexer": "ipython3",
   "version": "3.10.12"
  }
 },
 "nbformat": 4,
 "nbformat_minor": 2
}
