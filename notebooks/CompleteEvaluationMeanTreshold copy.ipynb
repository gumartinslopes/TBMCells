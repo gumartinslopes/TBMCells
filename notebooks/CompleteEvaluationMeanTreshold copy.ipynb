{
 "cells": [
  {
   "cell_type": "markdown",
   "metadata": {},
   "source": [
    "# Disf + TBM Segmentation\n",
    "---\n",
    "Applying DISF as pre-segmentation method and TBM as superpixel classifier to obtain segmentation on FoxP3+ stained cells."
   ]
  },
  {
   "cell_type": "markdown",
   "metadata": {},
   "source": [
    "## Initial Setup"
   ]
  },
  {
   "cell_type": "code",
   "execution_count": 1,
   "metadata": {},
   "outputs": [
    {
     "name": "stderr",
     "output_type": "stream",
     "text": [
      "/home/gustavo/tcc/TBMCells/ptk_veenv/lib/python3.10/site-packages/numpy/core/getlimits.py:549: UserWarning: The value of the smallest subnormal for <class 'numpy.float64'> type is zero.\n",
      "  setattr(self, word, getattr(machar, word).flat[0])\n",
      "/home/gustavo/tcc/TBMCells/ptk_veenv/lib/python3.10/site-packages/numpy/core/getlimits.py:89: UserWarning: The value of the smallest subnormal for <class 'numpy.float64'> type is zero.\n",
      "  return self._float_to_str(self.smallest_subnormal)\n",
      "/home/gustavo/tcc/TBMCells/ptk_veenv/lib/python3.10/site-packages/numpy/core/getlimits.py:549: UserWarning: The value of the smallest subnormal for <class 'numpy.float32'> type is zero.\n",
      "  setattr(self, word, getattr(machar, word).flat[0])\n",
      "/home/gustavo/tcc/TBMCells/ptk_veenv/lib/python3.10/site-packages/numpy/core/getlimits.py:89: UserWarning: The value of the smallest subnormal for <class 'numpy.float32'> type is zero.\n",
      "  return self._float_to_str(self.smallest_subnormal)\n"
     ]
    }
   ],
   "source": [
    "# Necessary Imports\n",
    "import sys\n",
    "sys.path.append(\"../DISF/python3/\")\n",
    "sys.path.append(\"../iDISF/python3/\")\n",
    "sys.path.append(\"../\")\n",
    "from scripts.metrics import calculate_precision, calculate_recall, calculate_f1_score\n",
    "\n",
    "from idisf import iDISF_scribbles\n",
    "from disf import DISF_Superpixels\n",
    "from scripts.segmentation_utils import *\n",
    "from PIL import Image\n",
    "from scripts.utils import *\n",
    "from scripts.superpixel_treatment import *\n",
    "from ptk_code.utils import *\n",
    "from ptk_code.TBM_PLOT import batch_PLOT\n",
    "\n",
    "import datetime\n",
    "import matplotlib.pyplot as plt\n",
    "import joblib\n",
    "import numpy as np\n",
    "import cv2"
   ]
  },
  {
   "cell_type": "markdown",
   "metadata": {},
   "source": [
    "Defining the params for all the pipeline"
   ]
  },
  {
   "cell_type": "code",
   "execution_count": 2,
   "metadata": {},
   "outputs": [],
   "source": [
    "def get_positive_ids(predictions, superpixel_indexes):\n",
    "    \"\"\"Creating a list with only the positively classified superpixel ids\"\"\"\n",
    "    positive_preds = []\n",
    "    for i, prediction in enumerate(predictions):\n",
    "        if prediction == 1:\n",
    "            positive_preds.append(superpixel_indexes[i])\n",
    "    return positive_preds"
   ]
  },
  {
   "cell_type": "code",
   "execution_count": 3,
   "metadata": {},
   "outputs": [],
   "source": [
    "def get_overlap_img(pred, gt):\n",
    "    \"\"\" Creates an overlapped visualization\n",
    "    bewtween the ground truth and the obtained prediction\"\"\"\n",
    "    pred_arr = np.asarray(pred)\n",
    "    gt_arr = np.asarray(gt)\n",
    "    binary_xor = cv2.bitwise_xor(pred_arr, gt_arr)\n",
    "    return binary_xor"
   ]
  },
  {
   "cell_type": "code",
   "execution_count": 4,
   "metadata": {},
   "outputs": [],
   "source": [
    "def get_positive_classification_visualization(tp_img, fp_img, ground_truth):\n",
    "    green = np.array([0, 255, 0])\n",
    "    blue = np.array([0, 255, 0])\n",
    "    tp_img_colored = np.int32(change_color(tp_img, green))\n",
    "    fp_img_colored = np.int32(change_color(fp_img, blue))\n",
    "    ov_img = get_overlap_img(tp_img_colored, ground_truth)\n",
    "    ov_img = get_overlap_img(ov_img, fp_img_colored)\n",
    "    return ov_img"
   ]
  },
  {
   "cell_type": "code",
   "execution_count": 5,
   "metadata": {},
   "outputs": [],
   "source": [
    "def get_predictions(classifier,input_batch: list[np.array], n_masses:int) -> list[int]:\n",
    "    \"\"\"\n",
    "    Applies the TBM transform and predicts on the dataset\n",
    "    \"\"\"\n",
    "    # Loading the reference dataset\n",
    "    dataset = 'immuno_cells'\n",
    "    train_dir = '../data/'+dataset+'/training/'\n",
    "    (reference_x, y_train) = load_image_data(train_dir)\n",
    "    # Obtaining the test dataset\n",
    "    x_input = np.array([np.float64(rgb2gray(datapoint)) for datapoint in input_batch])\n",
    "    # Applying transform\n",
    "    batch_plot = batch_PLOT(Nmasses = n_masses)\n",
    "    x_template=np.mean(reference_x,axis=0)\n",
    "    reference_x_hat, x_input_hat, Pl_tem, P_tem = batch_plot.forward_seq(reference_x, x_input, x_template)\n",
    "    # Making predictions\n",
    "    preds = classifier.predict(x_input_hat)\n",
    "    return preds"
   ]
  },
  {
   "cell_type": "code",
   "execution_count": 6,
   "metadata": {},
   "outputs": [],
   "source": [
    "def filter_superpixels(ids, superpixels, rgb_threshold):\n",
    "    \"\"\"Applies the superpixel filter by color mean thresholding\"\"\"\n",
    "    red_channel_mean_threshold = rgb_threshold[0]\n",
    "    green_channel_mean_threshold = rgb_threshold[1] \n",
    "    blue_channel_mean_threshold = rgb_threshold[2]\n",
    "    filtered_ids= []\n",
    "    filtered_superpixels = []\n",
    "    for id, superpixel in zip(ids, superpixels):\n",
    "        red_channel_mean = sum(np.unique(superpixel[:,:,0])) / len(np.unique(superpixel[:,:,0]))\n",
    "        green_channel_mean = sum(np.unique(superpixel[:,:,1])) / len(np.unique(superpixel[:,:,1]))\n",
    "        blue_channel_mean = sum(np.unique(superpixel[:,:,2])) / len(np.unique(superpixel[:,:,2]))\n",
    "        input_color_mean = sum([red_channel_mean,green_channel_mean, blue_channel_mean]) / 3\n",
    "        threshold_color_mean = sum([red_channel_mean_threshold, green_channel_mean_threshold, blue_channel_mean_threshold])/3\n",
    "        if input_color_mean < threshold_color_mean :\n",
    "            filtered_superpixels.append(superpixel)\n",
    "            filtered_ids.append(id)\n",
    "    return filtered_ids, filtered_superpixels"
   ]
  },
  {
   "cell_type": "code",
   "execution_count": 7,
   "metadata": {},
   "outputs": [],
   "source": [
    "def obtain_fltered_superpixels(img, label_img,rgb_threshold):\n",
    "    # Obtaining the ids of the generated superpixels\n",
    "    superpixel_ids = np.unique(label_img)\n",
    "    superpixel_ids = superpixel_ids[1:] # Excluding the first empty superpixel\n",
    "\n",
    "    segmented_superpixels = []\n",
    "    segmented_superpixels_ids = []\n",
    "\n",
    "\n",
    "    for superpixel_id in superpixel_ids:\n",
    "        superpixel_img = get_superpixel_img(label_img, superpixel_id)\n",
    "        cropped_original_img,cropped_superpixel_img = get_cropped_superpixel_img(img, superpixel_img)\n",
    "        segmented = apply_mask(cropped_original_img, cropped_superpixel_img)\n",
    "        segmented_superpixels.append(segmented)\n",
    "        segmented_superpixels_ids.append(superpixel_id)\n",
    "\n",
    "    filtered_ids, filtered_superpixels = filter_superpixels(segmented_superpixels_ids, segmented_superpixels, rgb_threshold)\n",
    "    return filtered_ids, filtered_superpixels"
   ]
  },
  {
   "cell_type": "code",
   "execution_count": 8,
   "metadata": {},
   "outputs": [],
   "source": [
    "def make_predictions(plot_ns_model,superpixels,ids,n_masses= 300, num_of_tries=5):\n",
    "    higher_num_of_predictions = 0\n",
    "    positive_ids = []\n",
    "    all_predictions = []\n",
    "    for i in range(num_of_tries):\n",
    "        current_positive_ids = []\n",
    "        # Obtainig the predictions on the dataset\n",
    "        predictions = get_predictions(plot_ns_model,superpixels, n_masses)\n",
    "        # Obtaining only the ids that were classified positively\n",
    "        current_positive_ids = get_positive_ids(predictions, ids)\n",
    "        all_predictions.append(current_positive_ids)\n",
    "        if len(current_positive_ids) > higher_num_of_predictions:\n",
    "            higher_num_of_predictions = len(current_positive_ids)\n",
    "    return all_predictions"
   ]
  },
  {
   "cell_type": "code",
   "execution_count": 9,
   "metadata": {},
   "outputs": [],
   "source": [
    "def DISF_TBM_CELLS(img, num_init_seeds=7000, num_final_superpixels = 4000, n_masses = 300, num_of_tries = 5, rgb_threshold = (130,90,80)):\n",
    "    superpixel_label_img, border_img = DISF_Superpixels(img, num_init_seeds, num_final_superpixels)\n",
    "    label_img = superpixel_label_img.copy()\n",
    "    # Loading the classifier weights\n",
    "    plot_ns_model = joblib.load('../checkpoints/best.pkl')\n",
    "    ids, superpixels= obtain_fltered_superpixels(img, label_img, rgb_threshold)\n",
    "    all_predictions = make_predictions(plot_ns_model, superpixels, ids, n_masses, num_of_tries)\n",
    "    reconstructed_imgs = [get_reconstructed_image(label_img, all_predictions[i]) for i in range(len(all_predictions))]\n",
    "    prediction_amounts = [len(pred) for pred in all_predictions]\n",
    "    final_prediction_img = reconstructed_imgs[prediction_amounts.index(max(prediction_amounts))]\n",
    "    final_prediction_img = np.uint8(final_prediction_img)\n",
    "    return final_prediction_img"
   ]
  },
  {
   "cell_type": "code",
   "execution_count": 10,
   "metadata": {},
   "outputs": [],
   "source": [
    "import datetime"
   ]
  },
  {
   "cell_type": "code",
   "execution_count": 11,
   "metadata": {},
   "outputs": [],
   "source": [
    "def create_output_folders(result_folder):\n",
    "    create_folder(result_folder + '/segmentation/')\n",
    "    create_folder(result_folder + '/overlap/')\n",
    "    create_folder(result_folder + '/tp/')\n",
    "    create_folder(result_folder + '/fn/')\n",
    "    create_folder(result_folder + '/fp/')"
   ]
  },
  {
   "cell_type": "code",
   "execution_count": 12,
   "metadata": {},
   "outputs": [],
   "source": [
    "def segment_classify_test(input_img, result_folder, num_init_seeds, num_final_superpixels, n_masses, num_of_tries, csv_logfile_path, logfile_path, rgb_threshold):\n",
    "    \"\"\"Applies the complete pipeline of the DISF TBM method\"\"\"\n",
    "    print(f'\\n\\n - Working on image: {input_img}')\n",
    "    img = np.array(Image.open(f\"../data/cells_dataset/original/{input_img}\"), dtype= 'int32')\n",
    "    gt = np.array(Image.open(f\"../data/cells_dataset/labels/{input_img}\"), dtype = 'int32')\n",
    "    segmentation = DISF_TBM_CELLS(img, num_init_seeds, num_final_superpixels, n_masses, num_of_tries, rgb_threshold)\n",
    "\n",
    "    gray_gt = cv2.cvtColor(np.uint8(gt), cv2.COLOR_RGB2GRAY)\n",
    "    true_positive_img = cv2.bitwise_and(segmentation, gray_gt)\n",
    "    false_negative_img = apply_open(cv2.bitwise_xor(gray_gt, true_positive_img))\n",
    "    false_positive_img = apply_open(cv2.bitwise_xor(segmentation, true_positive_img))\n",
    "    # Obtaining the object count on each image\n",
    "    gt_obj_count = cv2.connectedComponents(gray_gt)[0]\n",
    "    true_positive =cv2.connectedComponents(apply_open(true_positive_img))[0]\n",
    "    false_negative = cv2.connectedComponents(false_negative_img)[0]\n",
    "    false_positive = cv2.connectedComponents(false_positive_img)[0]\n",
    "    comparison_ovl_img = get_positive_classification_visualization(\n",
    "        true_positive_img,\n",
    "        false_positive_img,\n",
    "        gt\n",
    "    )\n",
    "\n",
    "    Image.fromarray(segmentation).save(f'{result_folder}/segmentation/{input_img}')\n",
    "    Image.fromarray(comparison_ovl_img.astype('uint8')).save(f'{result_folder}/overlap/{input_img}')\n",
    "    Image.fromarray(true_positive_img.astype('uint8')).save(f'{result_folder}/tp/{input_img}')\n",
    "    Image.fromarray(false_negative_img.astype('uint8')).save(f'{result_folder}/fn/{input_img}')\n",
    "    Image.fromarray(false_positive_img.astype('uint8')).save(f'{result_folder}/fp/{input_img}')\n",
    "\n",
    "    precision = round(calculate_precision(true_positive, false_positive),2)\n",
    "    recall = round(calculate_recall(true_positive, false_negative), 2)\n",
    "    f1_score = round(calculate_f1_score(precision, recall), 2)\n",
    "\n",
    "    output_data_row_str = f\"\\n{input_img},{num_init_seeds},{num_final_superpixels},{n_masses},{num_of_tries},\"\n",
    "    output_data_row_str += f\"{rgb_threshold[0]},{rgb_threshold[1]},{rgb_threshold[2]},\"\n",
    "    output_data_row_str += f\"{true_positive},{false_positive},{false_negative},{precision},{recall},{f1_score}\"\n",
    "    with open(csv_logfile_path,'a') as log_csv_file:\n",
    "        log_csv_file.write(output_data_row_str)\n",
    "    with open(logfile_path, 'a') as log_file:\n",
    "        log_file.write('\\n--------------\\n')\n",
    "        log_file.write(f'img: {input_img}\\n')\n",
    "        log_file.write(f'num_init_seeds: {num_init_seeds}\\n')\n",
    "        log_file.write(f'num_final_superpixels: {num_final_superpixels}\\n')\n",
    "        log_file.write(f'n_masses: {n_masses}\\n')\n",
    "        log_file.write(f'num_of_tries: {num_of_tries}\\n')\n",
    "        log_file.write(f'tp: {true_positive}\\n')\n",
    "        log_file.write(f'fp: {false_positive}\\n')\n",
    "        log_file.write(f'fn: {false_negative}\\n')\n",
    "        log_file.write(f'precision: {precision}\\n')\n",
    "        log_file.write(f'recall: {recall}\\n')\n",
    "        log_file.write(f'f1_score: {f1_score}\\n')"
   ]
  },
  {
   "cell_type": "code",
   "execution_count": 13,
   "metadata": {},
   "outputs": [],
   "source": [
    "def prepare_log(params):\n",
    "    result_folder = f'../results/mean_evaluation/{datetime.datetime.now()}'\n",
    "    logfile_path =  f'{result_folder}/log.log'\n",
    "    create_folder(result_folder)\n",
    "    create_output_folders(result_folder)\n",
    "\n",
    "    with open(logfile_path,'w') as log_file:\n",
    "        log_file.write(f\"num_init_seeds: {params['num_init_seeds']}\\n\")\n",
    "        log_file.write(f\"num_final_superpixels: {params['num_final_superpixels']}\\n\")\n",
    "        log_file.write(f\"n_masses: {params['n_masses']}\\n\")\n",
    "        log_file.write(f\"num_of_tries: {params['num_of_tries']}\\n\")\n",
    "        log_file.write(f\"red_channel_mean_threshold: {params['red_channel_mean_threshold']}\\n\")\n",
    "        log_file.write(f\"green_channel_mean_threshold: {params['green_channel_mean_threshold']}\\n\")\n",
    "        log_file.write(f\"blue_channel_mean_threshold: {params['blue_channel_mean_threshold']}\\n\")\n",
    "    return result_folder,logfile_path"
   ]
  },
  {
   "cell_type": "code",
   "execution_count": 14,
   "metadata": {},
   "outputs": [],
   "source": [
    "csv_logfile_path =  '../results/mean_evaluation/log.csv'\n",
    "# with open(csv_logfile_path, 'w') as log_csv_file:\n",
    "#     columns = 'image_name,num_init_seeds,num_final_superpixels,n_masses,num_of_tries,'\n",
    "#     columns += 'red_channel_mean_threshold,green_channel_mean_threshold,blue_channel_mean_threshold,'\n",
    "#     columns += 'tp,fp,fn,precision,recall,f1_score'\n",
    "#     log_csv_file.write(columns)"
   ]
  },
  {
   "cell_type": "code",
   "execution_count": 15,
   "metadata": {},
   "outputs": [],
   "source": [
    "params = {\n",
    "    'num_init_seeds':7000,\n",
    "    'num_final_superpixels': 4000,\n",
    "    'n_masses': 300,\n",
    "    'num_of_tries': 5,\n",
    "    'red_channel_mean_threshold': 130,\n",
    "    'green_channel_mean_threshold': 90,\n",
    "    'blue_channel_mean_threshold': 80,\n",
    "    'rgb_threshold': (130, 90, 80)\n",
    "}\n",
    "result_folder, logfile_path = prepare_log(params)"
   ]
  },
  {
   "cell_type": "code",
   "execution_count": 16,
   "metadata": {},
   "outputs": [],
   "source": [
    "# for i in range (2, 11):\n",
    "#     segment_classify_test(\n",
    "#     f'{i}.png',\n",
    "#     result_folder,\n",
    "#     params['num_init_seeds'],\n",
    "#     params['num_final_superpixels'],\n",
    "#     params['n_masses'],\n",
    "#     params['num_of_tries'], \n",
    "#     csv_logfile_path, \n",
    "#     logfile_path,\n",
    "#     params['rgb_threshold']\n",
    "# )"
   ]
  },
  {
   "cell_type": "code",
   "execution_count": 17,
   "metadata": {},
   "outputs": [
    {
     "name": "stdout",
     "output_type": "stream",
     "text": [
      "\n",
      "\n",
      " - Working on image: 2.png\n",
      "\n",
      "\n",
      " - Working on image: 3.png\n",
      "\n",
      "\n",
      " - Working on image: 4.png\n",
      "\n",
      "\n",
      " - Working on image: 5.png\n",
      "\n",
      "\n",
      " - Working on image: 6.png\n",
      "\n",
      "\n",
      " - Working on image: 7.png\n",
      "\n",
      "\n",
      " - Working on image: 8.png\n",
      "\n",
      "\n",
      " - Working on image: 9.png\n",
      "\n",
      "\n",
      " - Working on image: 10.png\n"
     ]
    }
   ],
   "source": [
    "params = {\n",
    "    'num_init_seeds':7000,\n",
    "    'num_final_superpixels': 4000,\n",
    "    'n_masses': 300,\n",
    "    'num_of_tries': 5,\n",
    "    'red_channel_mean_threshold': 140,\n",
    "    'green_channel_mean_threshold': 100,\n",
    "    'blue_channel_mean_threshold': 90,\n",
    "    'rgb_threshold': (140, 100, 90)\n",
    "}\n",
    "result_folder, logfile_path = prepare_log(params)\n",
    "for i in range (2, 11):\n",
    "    segment_classify_test(\n",
    "    f'{i}.png',\n",
    "    result_folder,\n",
    "    params['num_init_seeds'],\n",
    "    params['num_final_superpixels'],\n",
    "    params['n_masses'],\n",
    "    params['num_of_tries'], \n",
    "    csv_logfile_path, \n",
    "    logfile_path,\n",
    "    params['rgb_threshold']\n",
    ")"
   ]
  },
  {
   "cell_type": "code",
   "execution_count": 18,
   "metadata": {},
   "outputs": [
    {
     "name": "stdout",
     "output_type": "stream",
     "text": [
      "\n",
      "\n",
      " - Working on image: 2.png\n",
      "\n",
      "\n",
      " - Working on image: 3.png\n",
      "\n",
      "\n",
      " - Working on image: 4.png\n",
      "\n",
      "\n",
      " - Working on image: 5.png\n",
      "\n",
      "\n",
      " - Working on image: 6.png\n",
      "\n",
      "\n",
      " - Working on image: 7.png\n",
      "\n",
      "\n",
      " - Working on image: 8.png\n",
      "\n",
      "\n",
      " - Working on image: 9.png\n",
      "\n",
      "\n",
      " - Working on image: 10.png\n"
     ]
    }
   ],
   "source": [
    "params = {\n",
    "    'num_init_seeds':7000,\n",
    "    'num_final_superpixels': 4000,\n",
    "    'n_masses': 300,\n",
    "    'num_of_tries': 5,\n",
    "    'red_channel_mean_threshold': 150,\n",
    "    'green_channel_mean_threshold': 110,\n",
    "    'blue_channel_mean_threshold': 100,\n",
    "    'rgb_threshold': (150, 110, 100)\n",
    "}\n",
    "result_folder, logfile_path = prepare_log(params)\n",
    "for i in range (2, 11):\n",
    "    segment_classify_test(\n",
    "    f'{i}.png',\n",
    "    result_folder,\n",
    "    params['num_init_seeds'],\n",
    "    params['num_final_superpixels'],\n",
    "    params['n_masses'],\n",
    "    params['num_of_tries'], \n",
    "    csv_logfile_path, \n",
    "    logfile_path,\n",
    "    params['rgb_threshold']\n",
    ")"
   ]
  },
  {
   "cell_type": "code",
   "execution_count": 20,
   "metadata": {},
   "outputs": [
    {
     "name": "stdout",
     "output_type": "stream",
     "text": [
      "\n",
      "\n",
      " - Working on image: 2.png\n"
     ]
    },
    {
     "ename": "KeyboardInterrupt",
     "evalue": "",
     "output_type": "error",
     "traceback": [
      "\u001b[0;31m---------------------------------------------------------------------------\u001b[0m",
      "\u001b[0;31mKeyboardInterrupt\u001b[0m                         Traceback (most recent call last)",
      "Cell \u001b[0;32mIn[20], line 13\u001b[0m\n\u001b[1;32m     11\u001b[0m result_folder, logfile_path \u001b[38;5;241m=\u001b[39m prepare_log(params)\n\u001b[1;32m     12\u001b[0m \u001b[38;5;28;01mfor\u001b[39;00m i \u001b[38;5;129;01min\u001b[39;00m \u001b[38;5;28mrange\u001b[39m (\u001b[38;5;241m2\u001b[39m, \u001b[38;5;241m11\u001b[39m):\n\u001b[0;32m---> 13\u001b[0m     \u001b[43msegment_classify_test\u001b[49m\u001b[43m(\u001b[49m\n\u001b[1;32m     14\u001b[0m \u001b[43m    \u001b[49m\u001b[38;5;124;43mf\u001b[39;49m\u001b[38;5;124;43m'\u001b[39;49m\u001b[38;5;132;43;01m{\u001b[39;49;00m\u001b[43mi\u001b[49m\u001b[38;5;132;43;01m}\u001b[39;49;00m\u001b[38;5;124;43m.png\u001b[39;49m\u001b[38;5;124;43m'\u001b[39;49m\u001b[43m,\u001b[49m\n\u001b[1;32m     15\u001b[0m \u001b[43m    \u001b[49m\u001b[43mresult_folder\u001b[49m\u001b[43m,\u001b[49m\n\u001b[1;32m     16\u001b[0m \u001b[43m    \u001b[49m\u001b[43mparams\u001b[49m\u001b[43m[\u001b[49m\u001b[38;5;124;43m'\u001b[39;49m\u001b[38;5;124;43mnum_init_seeds\u001b[39;49m\u001b[38;5;124;43m'\u001b[39;49m\u001b[43m]\u001b[49m\u001b[43m,\u001b[49m\n\u001b[1;32m     17\u001b[0m \u001b[43m    \u001b[49m\u001b[43mparams\u001b[49m\u001b[43m[\u001b[49m\u001b[38;5;124;43m'\u001b[39;49m\u001b[38;5;124;43mnum_final_superpixels\u001b[39;49m\u001b[38;5;124;43m'\u001b[39;49m\u001b[43m]\u001b[49m\u001b[43m,\u001b[49m\n\u001b[1;32m     18\u001b[0m \u001b[43m    \u001b[49m\u001b[43mparams\u001b[49m\u001b[43m[\u001b[49m\u001b[38;5;124;43m'\u001b[39;49m\u001b[38;5;124;43mn_masses\u001b[39;49m\u001b[38;5;124;43m'\u001b[39;49m\u001b[43m]\u001b[49m\u001b[43m,\u001b[49m\n\u001b[1;32m     19\u001b[0m \u001b[43m    \u001b[49m\u001b[43mparams\u001b[49m\u001b[43m[\u001b[49m\u001b[38;5;124;43m'\u001b[39;49m\u001b[38;5;124;43mnum_of_tries\u001b[39;49m\u001b[38;5;124;43m'\u001b[39;49m\u001b[43m]\u001b[49m\u001b[43m,\u001b[49m\u001b[43m \u001b[49m\n\u001b[1;32m     20\u001b[0m \u001b[43m    \u001b[49m\u001b[43mcsv_logfile_path\u001b[49m\u001b[43m,\u001b[49m\u001b[43m \u001b[49m\n\u001b[1;32m     21\u001b[0m \u001b[43m    \u001b[49m\u001b[43mlogfile_path\u001b[49m\u001b[43m,\u001b[49m\n\u001b[1;32m     22\u001b[0m \u001b[43m    \u001b[49m\u001b[43mparams\u001b[49m\u001b[43m[\u001b[49m\u001b[38;5;124;43m'\u001b[39;49m\u001b[38;5;124;43mrgb_threshold\u001b[39;49m\u001b[38;5;124;43m'\u001b[39;49m\u001b[43m]\u001b[49m\n\u001b[1;32m     23\u001b[0m \u001b[43m)\u001b[49m\n",
      "Cell \u001b[0;32mIn[12], line 6\u001b[0m, in \u001b[0;36msegment_classify_test\u001b[0;34m(input_img, result_folder, num_init_seeds, num_final_superpixels, n_masses, num_of_tries, csv_logfile_path, logfile_path, rgb_threshold)\u001b[0m\n\u001b[1;32m      4\u001b[0m img \u001b[38;5;241m=\u001b[39m np\u001b[38;5;241m.\u001b[39marray(Image\u001b[38;5;241m.\u001b[39mopen(\u001b[38;5;124mf\u001b[39m\u001b[38;5;124m\"\u001b[39m\u001b[38;5;124m../data/cells_dataset/original/\u001b[39m\u001b[38;5;132;01m{\u001b[39;00minput_img\u001b[38;5;132;01m}\u001b[39;00m\u001b[38;5;124m\"\u001b[39m), dtype\u001b[38;5;241m=\u001b[39m \u001b[38;5;124m'\u001b[39m\u001b[38;5;124mint32\u001b[39m\u001b[38;5;124m'\u001b[39m)\n\u001b[1;32m      5\u001b[0m gt \u001b[38;5;241m=\u001b[39m np\u001b[38;5;241m.\u001b[39marray(Image\u001b[38;5;241m.\u001b[39mopen(\u001b[38;5;124mf\u001b[39m\u001b[38;5;124m\"\u001b[39m\u001b[38;5;124m../data/cells_dataset/labels/\u001b[39m\u001b[38;5;132;01m{\u001b[39;00minput_img\u001b[38;5;132;01m}\u001b[39;00m\u001b[38;5;124m\"\u001b[39m), dtype \u001b[38;5;241m=\u001b[39m \u001b[38;5;124m'\u001b[39m\u001b[38;5;124mint32\u001b[39m\u001b[38;5;124m'\u001b[39m)\n\u001b[0;32m----> 6\u001b[0m segmentation \u001b[38;5;241m=\u001b[39m \u001b[43mDISF_TBM_CELLS\u001b[49m\u001b[43m(\u001b[49m\u001b[43mimg\u001b[49m\u001b[43m,\u001b[49m\u001b[43m \u001b[49m\u001b[43mnum_init_seeds\u001b[49m\u001b[43m,\u001b[49m\u001b[43m \u001b[49m\u001b[43mnum_final_superpixels\u001b[49m\u001b[43m,\u001b[49m\u001b[43m \u001b[49m\u001b[43mn_masses\u001b[49m\u001b[43m,\u001b[49m\u001b[43m \u001b[49m\u001b[43mnum_of_tries\u001b[49m\u001b[43m,\u001b[49m\u001b[43m \u001b[49m\u001b[43mrgb_threshold\u001b[49m\u001b[43m)\u001b[49m\n\u001b[1;32m      8\u001b[0m gray_gt \u001b[38;5;241m=\u001b[39m cv2\u001b[38;5;241m.\u001b[39mcvtColor(np\u001b[38;5;241m.\u001b[39muint8(gt), cv2\u001b[38;5;241m.\u001b[39mCOLOR_RGB2GRAY)\n\u001b[1;32m      9\u001b[0m true_positive_img \u001b[38;5;241m=\u001b[39m cv2\u001b[38;5;241m.\u001b[39mbitwise_and(segmentation, gray_gt)\n",
      "Cell \u001b[0;32mIn[9], line 7\u001b[0m, in \u001b[0;36mDISF_TBM_CELLS\u001b[0;34m(img, num_init_seeds, num_final_superpixels, n_masses, num_of_tries, rgb_threshold)\u001b[0m\n\u001b[1;32m      5\u001b[0m plot_ns_model \u001b[38;5;241m=\u001b[39m joblib\u001b[38;5;241m.\u001b[39mload(\u001b[38;5;124m'\u001b[39m\u001b[38;5;124m../checkpoints/best.pkl\u001b[39m\u001b[38;5;124m'\u001b[39m)\n\u001b[1;32m      6\u001b[0m ids, superpixels\u001b[38;5;241m=\u001b[39m obtain_fltered_superpixels(img, label_img, rgb_threshold)\n\u001b[0;32m----> 7\u001b[0m all_predictions \u001b[38;5;241m=\u001b[39m \u001b[43mmake_predictions\u001b[49m\u001b[43m(\u001b[49m\u001b[43mplot_ns_model\u001b[49m\u001b[43m,\u001b[49m\u001b[43m \u001b[49m\u001b[43msuperpixels\u001b[49m\u001b[43m,\u001b[49m\u001b[43m \u001b[49m\u001b[43mids\u001b[49m\u001b[43m,\u001b[49m\u001b[43m \u001b[49m\u001b[43mn_masses\u001b[49m\u001b[43m,\u001b[49m\u001b[43m \u001b[49m\u001b[43mnum_of_tries\u001b[49m\u001b[43m)\u001b[49m\n\u001b[1;32m      8\u001b[0m reconstructed_imgs \u001b[38;5;241m=\u001b[39m [get_reconstructed_image(label_img, all_predictions[i]) \u001b[38;5;28;01mfor\u001b[39;00m i \u001b[38;5;129;01min\u001b[39;00m \u001b[38;5;28mrange\u001b[39m(\u001b[38;5;28mlen\u001b[39m(all_predictions))]\n\u001b[1;32m      9\u001b[0m prediction_amounts \u001b[38;5;241m=\u001b[39m [\u001b[38;5;28mlen\u001b[39m(pred) \u001b[38;5;28;01mfor\u001b[39;00m pred \u001b[38;5;129;01min\u001b[39;00m all_predictions]\n",
      "Cell \u001b[0;32mIn[8], line 8\u001b[0m, in \u001b[0;36mmake_predictions\u001b[0;34m(plot_ns_model, superpixels, ids, n_masses, num_of_tries)\u001b[0m\n\u001b[1;32m      6\u001b[0m current_positive_ids \u001b[38;5;241m=\u001b[39m []\n\u001b[1;32m      7\u001b[0m \u001b[38;5;66;03m# Obtainig the predictions on the dataset\u001b[39;00m\n\u001b[0;32m----> 8\u001b[0m predictions \u001b[38;5;241m=\u001b[39m \u001b[43mget_predictions\u001b[49m\u001b[43m(\u001b[49m\u001b[43mplot_ns_model\u001b[49m\u001b[43m,\u001b[49m\u001b[43msuperpixels\u001b[49m\u001b[43m,\u001b[49m\u001b[43m \u001b[49m\u001b[43mn_masses\u001b[49m\u001b[43m)\u001b[49m\n\u001b[1;32m      9\u001b[0m \u001b[38;5;66;03m# Obtaining only the ids that were classified positively\u001b[39;00m\n\u001b[1;32m     10\u001b[0m current_positive_ids \u001b[38;5;241m=\u001b[39m get_positive_ids(predictions, ids)\n",
      "Cell \u001b[0;32mIn[5], line 14\u001b[0m, in \u001b[0;36mget_predictions\u001b[0;34m(classifier, input_batch, n_masses)\u001b[0m\n\u001b[1;32m     12\u001b[0m batch_plot \u001b[38;5;241m=\u001b[39m batch_PLOT(Nmasses \u001b[38;5;241m=\u001b[39m n_masses)\n\u001b[1;32m     13\u001b[0m x_template\u001b[38;5;241m=\u001b[39mnp\u001b[38;5;241m.\u001b[39mmean(reference_x,axis\u001b[38;5;241m=\u001b[39m\u001b[38;5;241m0\u001b[39m)\n\u001b[0;32m---> 14\u001b[0m reference_x_hat, x_input_hat, Pl_tem, P_tem \u001b[38;5;241m=\u001b[39m \u001b[43mbatch_plot\u001b[49m\u001b[38;5;241;43m.\u001b[39;49m\u001b[43mforward_seq\u001b[49m\u001b[43m(\u001b[49m\u001b[43mreference_x\u001b[49m\u001b[43m,\u001b[49m\u001b[43m \u001b[49m\u001b[43mx_input\u001b[49m\u001b[43m,\u001b[49m\u001b[43m \u001b[49m\u001b[43mx_template\u001b[49m\u001b[43m)\u001b[49m\n\u001b[1;32m     15\u001b[0m \u001b[38;5;66;03m# Making predictions\u001b[39;00m\n\u001b[1;32m     16\u001b[0m preds \u001b[38;5;241m=\u001b[39m classifier\u001b[38;5;241m.\u001b[39mpredict(x_input_hat)\n",
      "File \u001b[0;32m~/tcc/TBMCells/notebooks/../ptk_code/TBM_PLOT.py:88\u001b[0m, in \u001b[0;36mbatch_PLOT.forward_seq\u001b[0;34m(self, x_train, x_test, x_template)\u001b[0m\n\u001b[1;32m     86\u001b[0m N \u001b[38;5;241m=\u001b[39m \u001b[38;5;28mself\u001b[39m\u001b[38;5;241m.\u001b[39mNmasses\n\u001b[1;32m     87\u001b[0m PPl_train\u001b[38;5;241m=\u001b[39mparticleApproximation(x_train, N)\n\u001b[0;32m---> 88\u001b[0m PPl_test\u001b[38;5;241m=\u001b[39m\u001b[43mparticleApproximation\u001b[49m\u001b[43m(\u001b[49m\u001b[43mx_test\u001b[49m\u001b[43m,\u001b[49m\u001b[43mN\u001b[49m\u001b[43m)\u001b[49m\n\u001b[1;32m     90\u001b[0m \u001b[38;5;66;03m#x0=np.mean(x_train,axis=0)\u001b[39;00m\n\u001b[1;32m     91\u001b[0m PPl_tem\u001b[38;5;241m=\u001b[39mget_particles(x_template,N)\n",
      "File \u001b[0;32m~/tcc/TBMCells/notebooks/../ptk_code/TBM_PLOT.py:66\u001b[0m, in \u001b[0;36mparticleApproximation\u001b[0;34m(imgs, Nmasses)\u001b[0m\n\u001b[1;32m     64\u001b[0m \u001b[38;5;28;01mfor\u001b[39;00m i \u001b[38;5;129;01min\u001b[39;00m \u001b[38;5;28mrange\u001b[39m(imgs\u001b[38;5;241m.\u001b[39mshape[\u001b[38;5;241m0\u001b[39m]):\n\u001b[1;32m     65\u001b[0m     img\u001b[38;5;241m=\u001b[39mimgs[i]\n\u001b[0;32m---> 66\u001b[0m     x\u001b[38;5;241m=\u001b[39m\u001b[43mget_particles\u001b[49m\u001b[43m(\u001b[49m\u001b[43mimg\u001b[49m\u001b[43m,\u001b[49m\u001b[43mNmasses\u001b[49m\u001b[43m)\u001b[49m\n\u001b[1;32m     67\u001b[0m     PPl\u001b[38;5;241m.\u001b[39mappend(x);\n\u001b[1;32m     68\u001b[0m \u001b[38;5;28;01mreturn\u001b[39;00m PPl\n",
      "File \u001b[0;32m~/tcc/TBMCells/notebooks/../ptk_code/TBM_PLOT.py:58\u001b[0m, in \u001b[0;36mget_particles\u001b[0;34m(img, N)\u001b[0m\n\u001b[1;32m     56\u001b[0m n_clusters \u001b[38;5;241m=\u001b[39m \u001b[38;5;28mlen\u001b[39m(features) \u001b[38;5;28;01mif\u001b[39;00m \u001b[38;5;28mlen\u001b[39m(features) \u001b[38;5;241m<\u001b[39m N \u001b[38;5;28;01melse\u001b[39;00m N\n\u001b[1;32m     57\u001b[0m kmeans\u001b[38;5;241m=\u001b[39mKMeans(n_clusters\u001b[38;5;241m=\u001b[39mn_clusters)\n\u001b[0;32m---> 58\u001b[0m \u001b[43mkmeans\u001b[49m\u001b[38;5;241;43m.\u001b[39;49m\u001b[43mfit\u001b[49m\u001b[43m(\u001b[49m\u001b[43mfeatures\u001b[49m\u001b[43m)\u001b[49m\n\u001b[1;32m     59\u001b[0m x\u001b[38;5;241m=\u001b[39mkmeans\u001b[38;5;241m.\u001b[39mcluster_centers_\n\u001b[1;32m     60\u001b[0m \u001b[38;5;28;01mreturn\u001b[39;00m x\n",
      "File \u001b[0;32m~/tcc/TBMCells/ptk_veenv/lib/python3.10/site-packages/sklearn/base.py:1474\u001b[0m, in \u001b[0;36m_fit_context.<locals>.decorator.<locals>.wrapper\u001b[0;34m(estimator, *args, **kwargs)\u001b[0m\n\u001b[1;32m   1467\u001b[0m     estimator\u001b[38;5;241m.\u001b[39m_validate_params()\n\u001b[1;32m   1469\u001b[0m \u001b[38;5;28;01mwith\u001b[39;00m config_context(\n\u001b[1;32m   1470\u001b[0m     skip_parameter_validation\u001b[38;5;241m=\u001b[39m(\n\u001b[1;32m   1471\u001b[0m         prefer_skip_nested_validation \u001b[38;5;129;01mor\u001b[39;00m global_skip_validation\n\u001b[1;32m   1472\u001b[0m     )\n\u001b[1;32m   1473\u001b[0m ):\n\u001b[0;32m-> 1474\u001b[0m     \u001b[38;5;28;01mreturn\u001b[39;00m \u001b[43mfit_method\u001b[49m\u001b[43m(\u001b[49m\u001b[43mestimator\u001b[49m\u001b[43m,\u001b[49m\u001b[43m \u001b[49m\u001b[38;5;241;43m*\u001b[39;49m\u001b[43margs\u001b[49m\u001b[43m,\u001b[49m\u001b[43m \u001b[49m\u001b[38;5;241;43m*\u001b[39;49m\u001b[38;5;241;43m*\u001b[39;49m\u001b[43mkwargs\u001b[49m\u001b[43m)\u001b[49m\n",
      "File \u001b[0;32m~/tcc/TBMCells/ptk_veenv/lib/python3.10/site-packages/sklearn/cluster/_kmeans.py:1525\u001b[0m, in \u001b[0;36mKMeans.fit\u001b[0;34m(self, X, y, sample_weight)\u001b[0m\n\u001b[1;32m   1521\u001b[0m best_inertia, best_labels \u001b[38;5;241m=\u001b[39m \u001b[38;5;28;01mNone\u001b[39;00m, \u001b[38;5;28;01mNone\u001b[39;00m\n\u001b[1;32m   1523\u001b[0m \u001b[38;5;28;01mfor\u001b[39;00m i \u001b[38;5;129;01min\u001b[39;00m \u001b[38;5;28mrange\u001b[39m(\u001b[38;5;28mself\u001b[39m\u001b[38;5;241m.\u001b[39m_n_init):\n\u001b[1;32m   1524\u001b[0m     \u001b[38;5;66;03m# Initialize centers\u001b[39;00m\n\u001b[0;32m-> 1525\u001b[0m     centers_init \u001b[38;5;241m=\u001b[39m \u001b[38;5;28;43mself\u001b[39;49m\u001b[38;5;241;43m.\u001b[39;49m\u001b[43m_init_centroids\u001b[49m\u001b[43m(\u001b[49m\n\u001b[1;32m   1526\u001b[0m \u001b[43m        \u001b[49m\u001b[43mX\u001b[49m\u001b[43m,\u001b[49m\n\u001b[1;32m   1527\u001b[0m \u001b[43m        \u001b[49m\u001b[43mx_squared_norms\u001b[49m\u001b[38;5;241;43m=\u001b[39;49m\u001b[43mx_squared_norms\u001b[49m\u001b[43m,\u001b[49m\n\u001b[1;32m   1528\u001b[0m \u001b[43m        \u001b[49m\u001b[43minit\u001b[49m\u001b[38;5;241;43m=\u001b[39;49m\u001b[43minit\u001b[49m\u001b[43m,\u001b[49m\n\u001b[1;32m   1529\u001b[0m \u001b[43m        \u001b[49m\u001b[43mrandom_state\u001b[49m\u001b[38;5;241;43m=\u001b[39;49m\u001b[43mrandom_state\u001b[49m\u001b[43m,\u001b[49m\n\u001b[1;32m   1530\u001b[0m \u001b[43m        \u001b[49m\u001b[43msample_weight\u001b[49m\u001b[38;5;241;43m=\u001b[39;49m\u001b[43msample_weight\u001b[49m\u001b[43m,\u001b[49m\n\u001b[1;32m   1531\u001b[0m \u001b[43m    \u001b[49m\u001b[43m)\u001b[49m\n\u001b[1;32m   1532\u001b[0m     \u001b[38;5;28;01mif\u001b[39;00m \u001b[38;5;28mself\u001b[39m\u001b[38;5;241m.\u001b[39mverbose:\n\u001b[1;32m   1533\u001b[0m         \u001b[38;5;28mprint\u001b[39m(\u001b[38;5;124m\"\u001b[39m\u001b[38;5;124mInitialization complete\u001b[39m\u001b[38;5;124m\"\u001b[39m)\n",
      "File \u001b[0;32m~/tcc/TBMCells/ptk_veenv/lib/python3.10/site-packages/sklearn/cluster/_kmeans.py:1021\u001b[0m, in \u001b[0;36m_BaseKMeans._init_centroids\u001b[0;34m(self, X, x_squared_norms, init, random_state, sample_weight, init_size, n_centroids)\u001b[0m\n\u001b[1;32m   1018\u001b[0m     sample_weight \u001b[38;5;241m=\u001b[39m sample_weight[init_indices]\n\u001b[1;32m   1020\u001b[0m \u001b[38;5;28;01mif\u001b[39;00m \u001b[38;5;28misinstance\u001b[39m(init, \u001b[38;5;28mstr\u001b[39m) \u001b[38;5;129;01mand\u001b[39;00m init \u001b[38;5;241m==\u001b[39m \u001b[38;5;124m\"\u001b[39m\u001b[38;5;124mk-means++\u001b[39m\u001b[38;5;124m\"\u001b[39m:\n\u001b[0;32m-> 1021\u001b[0m     centers, _ \u001b[38;5;241m=\u001b[39m \u001b[43m_kmeans_plusplus\u001b[49m\u001b[43m(\u001b[49m\n\u001b[1;32m   1022\u001b[0m \u001b[43m        \u001b[49m\u001b[43mX\u001b[49m\u001b[43m,\u001b[49m\n\u001b[1;32m   1023\u001b[0m \u001b[43m        \u001b[49m\u001b[43mn_clusters\u001b[49m\u001b[43m,\u001b[49m\n\u001b[1;32m   1024\u001b[0m \u001b[43m        \u001b[49m\u001b[43mrandom_state\u001b[49m\u001b[38;5;241;43m=\u001b[39;49m\u001b[43mrandom_state\u001b[49m\u001b[43m,\u001b[49m\n\u001b[1;32m   1025\u001b[0m \u001b[43m        \u001b[49m\u001b[43mx_squared_norms\u001b[49m\u001b[38;5;241;43m=\u001b[39;49m\u001b[43mx_squared_norms\u001b[49m\u001b[43m,\u001b[49m\n\u001b[1;32m   1026\u001b[0m \u001b[43m        \u001b[49m\u001b[43msample_weight\u001b[49m\u001b[38;5;241;43m=\u001b[39;49m\u001b[43msample_weight\u001b[49m\u001b[43m,\u001b[49m\n\u001b[1;32m   1027\u001b[0m \u001b[43m    \u001b[49m\u001b[43m)\u001b[49m\n\u001b[1;32m   1028\u001b[0m \u001b[38;5;28;01melif\u001b[39;00m \u001b[38;5;28misinstance\u001b[39m(init, \u001b[38;5;28mstr\u001b[39m) \u001b[38;5;129;01mand\u001b[39;00m init \u001b[38;5;241m==\u001b[39m \u001b[38;5;124m\"\u001b[39m\u001b[38;5;124mrandom\u001b[39m\u001b[38;5;124m\"\u001b[39m:\n\u001b[1;32m   1029\u001b[0m     seeds \u001b[38;5;241m=\u001b[39m random_state\u001b[38;5;241m.\u001b[39mchoice(\n\u001b[1;32m   1030\u001b[0m         n_samples,\n\u001b[1;32m   1031\u001b[0m         size\u001b[38;5;241m=\u001b[39mn_clusters,\n\u001b[1;32m   1032\u001b[0m         replace\u001b[38;5;241m=\u001b[39m\u001b[38;5;28;01mFalse\u001b[39;00m,\n\u001b[1;32m   1033\u001b[0m         p\u001b[38;5;241m=\u001b[39msample_weight \u001b[38;5;241m/\u001b[39m sample_weight\u001b[38;5;241m.\u001b[39msum(),\n\u001b[1;32m   1034\u001b[0m     )\n",
      "File \u001b[0;32m~/tcc/TBMCells/ptk_veenv/lib/python3.10/site-packages/sklearn/cluster/_kmeans.py:247\u001b[0m, in \u001b[0;36m_kmeans_plusplus\u001b[0;34m(X, n_clusters, x_squared_norms, sample_weight, random_state, n_local_trials)\u001b[0m\n\u001b[1;32m    243\u001b[0m \u001b[38;5;66;03m# Pick the remaining n_clusters-1 points\u001b[39;00m\n\u001b[1;32m    244\u001b[0m \u001b[38;5;28;01mfor\u001b[39;00m c \u001b[38;5;129;01min\u001b[39;00m \u001b[38;5;28mrange\u001b[39m(\u001b[38;5;241m1\u001b[39m, n_clusters):\n\u001b[1;32m    245\u001b[0m     \u001b[38;5;66;03m# Choose center candidates by sampling with probability proportional\u001b[39;00m\n\u001b[1;32m    246\u001b[0m     \u001b[38;5;66;03m# to the squared distance to the closest existing center\u001b[39;00m\n\u001b[0;32m--> 247\u001b[0m     rand_vals \u001b[38;5;241m=\u001b[39m \u001b[43mrandom_state\u001b[49m\u001b[38;5;241;43m.\u001b[39;49m\u001b[43muniform\u001b[49m\u001b[43m(\u001b[49m\u001b[43msize\u001b[49m\u001b[38;5;241;43m=\u001b[39;49m\u001b[43mn_local_trials\u001b[49m\u001b[43m)\u001b[49m \u001b[38;5;241m*\u001b[39m current_pot\n\u001b[1;32m    248\u001b[0m     candidate_ids \u001b[38;5;241m=\u001b[39m np\u001b[38;5;241m.\u001b[39msearchsorted(\n\u001b[1;32m    249\u001b[0m         stable_cumsum(sample_weight \u001b[38;5;241m*\u001b[39m closest_dist_sq), rand_vals\n\u001b[1;32m    250\u001b[0m     )\n\u001b[1;32m    251\u001b[0m     \u001b[38;5;66;03m# XXX: numerical imprecision can result in a candidate_id out of range\u001b[39;00m\n",
      "\u001b[0;31mKeyboardInterrupt\u001b[0m: "
     ]
    }
   ],
   "source": [
    "params = {\n",
    "    'num_init_seeds':7000,\n",
    "    'num_final_superpixels': 4000,\n",
    "    'n_masses': 300,\n",
    "    'num_of_tries': 5,\n",
    "    'red_channel_mean_threshold': 160,\n",
    "    'green_channel_mean_threshold': 120,\n",
    "    'blue_channel_mean_threshold': 110,\n",
    "    'rgb_threshold': (160, 120, 110)\n",
    "}\n",
    "result_folder, logfile_path = prepare_log(params)\n",
    "for i in range (2, 11):\n",
    "    segment_classify_test(\n",
    "    f'{i}.png',\n",
    "    result_folder,\n",
    "    params['num_init_seeds'],\n",
    "    params['num_final_superpixels'],\n",
    "    params['n_masses'],\n",
    "    params['num_of_tries'], \n",
    "    csv_logfile_path, \n",
    "    logfile_path,\n",
    "    params['rgb_threshold']\n",
    ")"
   ]
  },
  {
   "cell_type": "code",
   "execution_count": 21,
   "metadata": {},
   "outputs": [
    {
     "name": "stdout",
     "output_type": "stream",
     "text": [
      "\n",
      "\n",
      " - Working on image: 2.png\n"
     ]
    },
    {
     "ename": "KeyboardInterrupt",
     "evalue": "",
     "output_type": "error",
     "traceback": [
      "\u001b[0;31m---------------------------------------------------------------------------\u001b[0m",
      "\u001b[0;31mKeyboardInterrupt\u001b[0m                         Traceback (most recent call last)",
      "Cell \u001b[0;32mIn[21], line 13\u001b[0m\n\u001b[1;32m     11\u001b[0m result_folder, logfile_path \u001b[38;5;241m=\u001b[39m prepare_log(params)\n\u001b[1;32m     12\u001b[0m \u001b[38;5;28;01mfor\u001b[39;00m i \u001b[38;5;129;01min\u001b[39;00m \u001b[38;5;28mrange\u001b[39m (\u001b[38;5;241m2\u001b[39m, \u001b[38;5;241m11\u001b[39m):\n\u001b[0;32m---> 13\u001b[0m     \u001b[43msegment_classify_test\u001b[49m\u001b[43m(\u001b[49m\n\u001b[1;32m     14\u001b[0m \u001b[43m    \u001b[49m\u001b[38;5;124;43mf\u001b[39;49m\u001b[38;5;124;43m'\u001b[39;49m\u001b[38;5;132;43;01m{\u001b[39;49;00m\u001b[43mi\u001b[49m\u001b[38;5;132;43;01m}\u001b[39;49;00m\u001b[38;5;124;43m.png\u001b[39;49m\u001b[38;5;124;43m'\u001b[39;49m\u001b[43m,\u001b[49m\n\u001b[1;32m     15\u001b[0m \u001b[43m    \u001b[49m\u001b[43mresult_folder\u001b[49m\u001b[43m,\u001b[49m\n\u001b[1;32m     16\u001b[0m \u001b[43m    \u001b[49m\u001b[43mparams\u001b[49m\u001b[43m[\u001b[49m\u001b[38;5;124;43m'\u001b[39;49m\u001b[38;5;124;43mnum_init_seeds\u001b[39;49m\u001b[38;5;124;43m'\u001b[39;49m\u001b[43m]\u001b[49m\u001b[43m,\u001b[49m\n\u001b[1;32m     17\u001b[0m \u001b[43m    \u001b[49m\u001b[43mparams\u001b[49m\u001b[43m[\u001b[49m\u001b[38;5;124;43m'\u001b[39;49m\u001b[38;5;124;43mnum_final_superpixels\u001b[39;49m\u001b[38;5;124;43m'\u001b[39;49m\u001b[43m]\u001b[49m\u001b[43m,\u001b[49m\n\u001b[1;32m     18\u001b[0m \u001b[43m    \u001b[49m\u001b[43mparams\u001b[49m\u001b[43m[\u001b[49m\u001b[38;5;124;43m'\u001b[39;49m\u001b[38;5;124;43mn_masses\u001b[39;49m\u001b[38;5;124;43m'\u001b[39;49m\u001b[43m]\u001b[49m\u001b[43m,\u001b[49m\n\u001b[1;32m     19\u001b[0m \u001b[43m    \u001b[49m\u001b[43mparams\u001b[49m\u001b[43m[\u001b[49m\u001b[38;5;124;43m'\u001b[39;49m\u001b[38;5;124;43mnum_of_tries\u001b[39;49m\u001b[38;5;124;43m'\u001b[39;49m\u001b[43m]\u001b[49m\u001b[43m,\u001b[49m\u001b[43m \u001b[49m\n\u001b[1;32m     20\u001b[0m \u001b[43m    \u001b[49m\u001b[43mcsv_logfile_path\u001b[49m\u001b[43m,\u001b[49m\u001b[43m \u001b[49m\n\u001b[1;32m     21\u001b[0m \u001b[43m    \u001b[49m\u001b[43mlogfile_path\u001b[49m\u001b[43m,\u001b[49m\n\u001b[1;32m     22\u001b[0m \u001b[43m    \u001b[49m\u001b[43mparams\u001b[49m\u001b[43m[\u001b[49m\u001b[38;5;124;43m'\u001b[39;49m\u001b[38;5;124;43mrgb_threshold\u001b[39;49m\u001b[38;5;124;43m'\u001b[39;49m\u001b[43m]\u001b[49m\n\u001b[1;32m     23\u001b[0m \u001b[43m)\u001b[49m\n",
      "Cell \u001b[0;32mIn[12], line 6\u001b[0m, in \u001b[0;36msegment_classify_test\u001b[0;34m(input_img, result_folder, num_init_seeds, num_final_superpixels, n_masses, num_of_tries, csv_logfile_path, logfile_path, rgb_threshold)\u001b[0m\n\u001b[1;32m      4\u001b[0m img \u001b[38;5;241m=\u001b[39m np\u001b[38;5;241m.\u001b[39marray(Image\u001b[38;5;241m.\u001b[39mopen(\u001b[38;5;124mf\u001b[39m\u001b[38;5;124m\"\u001b[39m\u001b[38;5;124m../data/cells_dataset/original/\u001b[39m\u001b[38;5;132;01m{\u001b[39;00minput_img\u001b[38;5;132;01m}\u001b[39;00m\u001b[38;5;124m\"\u001b[39m), dtype\u001b[38;5;241m=\u001b[39m \u001b[38;5;124m'\u001b[39m\u001b[38;5;124mint32\u001b[39m\u001b[38;5;124m'\u001b[39m)\n\u001b[1;32m      5\u001b[0m gt \u001b[38;5;241m=\u001b[39m np\u001b[38;5;241m.\u001b[39marray(Image\u001b[38;5;241m.\u001b[39mopen(\u001b[38;5;124mf\u001b[39m\u001b[38;5;124m\"\u001b[39m\u001b[38;5;124m../data/cells_dataset/labels/\u001b[39m\u001b[38;5;132;01m{\u001b[39;00minput_img\u001b[38;5;132;01m}\u001b[39;00m\u001b[38;5;124m\"\u001b[39m), dtype \u001b[38;5;241m=\u001b[39m \u001b[38;5;124m'\u001b[39m\u001b[38;5;124mint32\u001b[39m\u001b[38;5;124m'\u001b[39m)\n\u001b[0;32m----> 6\u001b[0m segmentation \u001b[38;5;241m=\u001b[39m \u001b[43mDISF_TBM_CELLS\u001b[49m\u001b[43m(\u001b[49m\u001b[43mimg\u001b[49m\u001b[43m,\u001b[49m\u001b[43m \u001b[49m\u001b[43mnum_init_seeds\u001b[49m\u001b[43m,\u001b[49m\u001b[43m \u001b[49m\u001b[43mnum_final_superpixels\u001b[49m\u001b[43m,\u001b[49m\u001b[43m \u001b[49m\u001b[43mn_masses\u001b[49m\u001b[43m,\u001b[49m\u001b[43m \u001b[49m\u001b[43mnum_of_tries\u001b[49m\u001b[43m,\u001b[49m\u001b[43m \u001b[49m\u001b[43mrgb_threshold\u001b[49m\u001b[43m)\u001b[49m\n\u001b[1;32m      8\u001b[0m gray_gt \u001b[38;5;241m=\u001b[39m cv2\u001b[38;5;241m.\u001b[39mcvtColor(np\u001b[38;5;241m.\u001b[39muint8(gt), cv2\u001b[38;5;241m.\u001b[39mCOLOR_RGB2GRAY)\n\u001b[1;32m      9\u001b[0m true_positive_img \u001b[38;5;241m=\u001b[39m cv2\u001b[38;5;241m.\u001b[39mbitwise_and(segmentation, gray_gt)\n",
      "Cell \u001b[0;32mIn[9], line 7\u001b[0m, in \u001b[0;36mDISF_TBM_CELLS\u001b[0;34m(img, num_init_seeds, num_final_superpixels, n_masses, num_of_tries, rgb_threshold)\u001b[0m\n\u001b[1;32m      5\u001b[0m plot_ns_model \u001b[38;5;241m=\u001b[39m joblib\u001b[38;5;241m.\u001b[39mload(\u001b[38;5;124m'\u001b[39m\u001b[38;5;124m../checkpoints/best.pkl\u001b[39m\u001b[38;5;124m'\u001b[39m)\n\u001b[1;32m      6\u001b[0m ids, superpixels\u001b[38;5;241m=\u001b[39m obtain_fltered_superpixels(img, label_img, rgb_threshold)\n\u001b[0;32m----> 7\u001b[0m all_predictions \u001b[38;5;241m=\u001b[39m \u001b[43mmake_predictions\u001b[49m\u001b[43m(\u001b[49m\u001b[43mplot_ns_model\u001b[49m\u001b[43m,\u001b[49m\u001b[43m \u001b[49m\u001b[43msuperpixels\u001b[49m\u001b[43m,\u001b[49m\u001b[43m \u001b[49m\u001b[43mids\u001b[49m\u001b[43m,\u001b[49m\u001b[43m \u001b[49m\u001b[43mn_masses\u001b[49m\u001b[43m,\u001b[49m\u001b[43m \u001b[49m\u001b[43mnum_of_tries\u001b[49m\u001b[43m)\u001b[49m\n\u001b[1;32m      8\u001b[0m reconstructed_imgs \u001b[38;5;241m=\u001b[39m [get_reconstructed_image(label_img, all_predictions[i]) \u001b[38;5;28;01mfor\u001b[39;00m i \u001b[38;5;129;01min\u001b[39;00m \u001b[38;5;28mrange\u001b[39m(\u001b[38;5;28mlen\u001b[39m(all_predictions))]\n\u001b[1;32m      9\u001b[0m prediction_amounts \u001b[38;5;241m=\u001b[39m [\u001b[38;5;28mlen\u001b[39m(pred) \u001b[38;5;28;01mfor\u001b[39;00m pred \u001b[38;5;129;01min\u001b[39;00m all_predictions]\n",
      "Cell \u001b[0;32mIn[8], line 8\u001b[0m, in \u001b[0;36mmake_predictions\u001b[0;34m(plot_ns_model, superpixels, ids, n_masses, num_of_tries)\u001b[0m\n\u001b[1;32m      6\u001b[0m current_positive_ids \u001b[38;5;241m=\u001b[39m []\n\u001b[1;32m      7\u001b[0m \u001b[38;5;66;03m# Obtainig the predictions on the dataset\u001b[39;00m\n\u001b[0;32m----> 8\u001b[0m predictions \u001b[38;5;241m=\u001b[39m \u001b[43mget_predictions\u001b[49m\u001b[43m(\u001b[49m\u001b[43mplot_ns_model\u001b[49m\u001b[43m,\u001b[49m\u001b[43msuperpixels\u001b[49m\u001b[43m,\u001b[49m\u001b[43m \u001b[49m\u001b[43mn_masses\u001b[49m\u001b[43m)\u001b[49m\n\u001b[1;32m      9\u001b[0m \u001b[38;5;66;03m# Obtaining only the ids that were classified positively\u001b[39;00m\n\u001b[1;32m     10\u001b[0m current_positive_ids \u001b[38;5;241m=\u001b[39m get_positive_ids(predictions, ids)\n",
      "Cell \u001b[0;32mIn[5], line 14\u001b[0m, in \u001b[0;36mget_predictions\u001b[0;34m(classifier, input_batch, n_masses)\u001b[0m\n\u001b[1;32m     12\u001b[0m batch_plot \u001b[38;5;241m=\u001b[39m batch_PLOT(Nmasses \u001b[38;5;241m=\u001b[39m n_masses)\n\u001b[1;32m     13\u001b[0m x_template\u001b[38;5;241m=\u001b[39mnp\u001b[38;5;241m.\u001b[39mmean(reference_x,axis\u001b[38;5;241m=\u001b[39m\u001b[38;5;241m0\u001b[39m)\n\u001b[0;32m---> 14\u001b[0m reference_x_hat, x_input_hat, Pl_tem, P_tem \u001b[38;5;241m=\u001b[39m \u001b[43mbatch_plot\u001b[49m\u001b[38;5;241;43m.\u001b[39;49m\u001b[43mforward_seq\u001b[49m\u001b[43m(\u001b[49m\u001b[43mreference_x\u001b[49m\u001b[43m,\u001b[49m\u001b[43m \u001b[49m\u001b[43mx_input\u001b[49m\u001b[43m,\u001b[49m\u001b[43m \u001b[49m\u001b[43mx_template\u001b[49m\u001b[43m)\u001b[49m\n\u001b[1;32m     15\u001b[0m \u001b[38;5;66;03m# Making predictions\u001b[39;00m\n\u001b[1;32m     16\u001b[0m preds \u001b[38;5;241m=\u001b[39m classifier\u001b[38;5;241m.\u001b[39mpredict(x_input_hat)\n",
      "File \u001b[0;32m~/tcc/TBMCells/notebooks/../ptk_code/TBM_PLOT.py:114\u001b[0m, in \u001b[0;36mbatch_PLOT.forward_seq\u001b[0;34m(self, x_train, x_test, x_template)\u001b[0m\n\u001b[1;32m    112\u001b[0m     x_te\u001b[38;5;241m=\u001b[39mxa_te[:,:\u001b[38;5;241m2\u001b[39m]\n\u001b[1;32m    113\u001b[0m     a_te\u001b[38;5;241m=\u001b[39mxa_te[:,\u001b[38;5;241m2\u001b[39m]\u001b[38;5;241m/\u001b[39mxa_te[:,\u001b[38;5;241m2\u001b[39m]\u001b[38;5;241m.\u001b[39msum()\n\u001b[0;32m--> 114\u001b[0m     V_single\u001b[38;5;241m=\u001b[39m\u001b[43mpLOT_single\u001b[49m\u001b[43m(\u001b[49m\u001b[43mx_temp\u001b[49m\u001b[43m,\u001b[49m\u001b[43mx_te\u001b[49m\u001b[43m,\u001b[49m\u001b[43ma_temp\u001b[49m\u001b[43m,\u001b[49m\u001b[43ma_te\u001b[49m\u001b[43m)\u001b[49m\n\u001b[1;32m    115\u001b[0m     V\u001b[38;5;241m.\u001b[39mappend(V_single)\n\u001b[1;32m    116\u001b[0m V\u001b[38;5;241m=\u001b[39mnp\u001b[38;5;241m.\u001b[39masarray(V)\n",
      "File \u001b[0;32m~/tcc/TBMCells/notebooks/../ptk_code/TBM_PLOT.py:72\u001b[0m, in \u001b[0;36mpLOT_single\u001b[0;34m(x_temp, x_targ, a_temp, a_targ)\u001b[0m\n\u001b[1;32m     70\u001b[0m \u001b[38;5;28;01mdef\u001b[39;00m \u001b[38;5;21mpLOT_single\u001b[39m(x_temp,x_targ,a_temp,a_targ):\n\u001b[1;32m     71\u001b[0m     C\u001b[38;5;241m=\u001b[39mot\u001b[38;5;241m.\u001b[39mdist(x_targ,x_temp)\n\u001b[0;32m---> 72\u001b[0m     w2,log\u001b[38;5;241m=\u001b[39m\u001b[43mot\u001b[49m\u001b[38;5;241;43m.\u001b[39;49m\u001b[43memd2\u001b[49m\u001b[43m(\u001b[49m\u001b[43ma_targ\u001b[49m\u001b[43m,\u001b[49m\u001b[43ma_temp\u001b[49m\u001b[43m,\u001b[49m\u001b[43mC\u001b[49m\u001b[43m,\u001b[49m\u001b[43mreturn_matrix\u001b[49m\u001b[38;5;241;43m=\u001b[39;49m\u001b[38;5;28;43;01mTrue\u001b[39;49;00m\u001b[43m)\u001b[49m\n\u001b[1;32m     73\u001b[0m     M\u001b[38;5;241m=\u001b[39mx_targ\u001b[38;5;241m.\u001b[39mshape[\u001b[38;5;241m0\u001b[39m]\n\u001b[1;32m     74\u001b[0m     gamma\u001b[38;5;241m=\u001b[39mlog[\u001b[38;5;124m'\u001b[39m\u001b[38;5;124mG\u001b[39m\u001b[38;5;124m'\u001b[39m]\n",
      "File \u001b[0;32m~/tcc/TBMCells/ptk_veenv/lib/python3.10/site-packages/ot/lp/__init__.py:575\u001b[0m, in \u001b[0;36memd2\u001b[0;34m(a, b, M, processes, numItermax, log, return_matrix, center_dual, numThreads, check_marginals)\u001b[0m\n\u001b[1;32m    572\u001b[0m         \u001b[38;5;28;01mreturn\u001b[39;00m cost\n\u001b[1;32m    574\u001b[0m \u001b[38;5;28;01mif\u001b[39;00m \u001b[38;5;28mlen\u001b[39m(b\u001b[38;5;241m.\u001b[39mshape) \u001b[38;5;241m==\u001b[39m \u001b[38;5;241m1\u001b[39m:\n\u001b[0;32m--> 575\u001b[0m     \u001b[38;5;28;01mreturn\u001b[39;00m \u001b[43mf\u001b[49m\u001b[43m(\u001b[49m\u001b[43mb\u001b[49m\u001b[43m)\u001b[49m\n\u001b[1;32m    576\u001b[0m nb \u001b[38;5;241m=\u001b[39m b\u001b[38;5;241m.\u001b[39mshape[\u001b[38;5;241m1\u001b[39m]\n\u001b[1;32m    578\u001b[0m \u001b[38;5;28;01mif\u001b[39;00m processes \u001b[38;5;241m>\u001b[39m \u001b[38;5;241m1\u001b[39m:\n",
      "File \u001b[0;32m~/tcc/TBMCells/ptk_veenv/lib/python3.10/site-packages/ot/lp/__init__.py:518\u001b[0m, in \u001b[0;36memd2.<locals>.f\u001b[0;34m(b)\u001b[0m\n\u001b[1;32m    515\u001b[0m \u001b[38;5;28;01mdef\u001b[39;00m \u001b[38;5;21mf\u001b[39m(b):\n\u001b[1;32m    516\u001b[0m     bsel \u001b[38;5;241m=\u001b[39m b \u001b[38;5;241m!=\u001b[39m \u001b[38;5;241m0\u001b[39m\n\u001b[0;32m--> 518\u001b[0m     G, cost, u, v, result_code \u001b[38;5;241m=\u001b[39m \u001b[43memd_c\u001b[49m\u001b[43m(\u001b[49m\u001b[43ma\u001b[49m\u001b[43m,\u001b[49m\u001b[43m \u001b[49m\u001b[43mb\u001b[49m\u001b[43m,\u001b[49m\u001b[43m \u001b[49m\u001b[43mM\u001b[49m\u001b[43m,\u001b[49m\u001b[43m \u001b[49m\u001b[43mnumItermax\u001b[49m\u001b[43m,\u001b[49m\u001b[43m \u001b[49m\u001b[43mnumThreads\u001b[49m\u001b[43m)\u001b[49m\n\u001b[1;32m    520\u001b[0m     \u001b[38;5;28;01mif\u001b[39;00m center_dual:\n\u001b[1;32m    521\u001b[0m         u, v \u001b[38;5;241m=\u001b[39m center_ot_dual(u, v, a, b)\n",
      "\u001b[0;31mKeyboardInterrupt\u001b[0m: "
     ]
    }
   ],
   "source": [
    "params = {\n",
    "    'num_init_seeds':7000,\n",
    "    'num_final_superpixels': 4000,\n",
    "    'n_masses': 300,\n",
    "    'num_of_tries': 5,\n",
    "    'red_channel_mean_threshold': 170,\n",
    "    'green_channel_mean_threshold': 130,\n",
    "    'blue_channel_mean_threshold': 120,\n",
    "    'rgb_threshold': (170, 130, 120)\n",
    "}\n",
    "result_folder, logfile_path = prepare_log(params)\n",
    "for i in range (2, 11):\n",
    "    segment_classify_test(\n",
    "    f'{i}.png',\n",
    "    result_folder,\n",
    "    params['num_init_seeds'],\n",
    "    params['num_final_superpixels'],\n",
    "    params['n_masses'],\n",
    "    params['num_of_tries'], \n",
    "    csv_logfile_path, \n",
    "    logfile_path,\n",
    "    params['rgb_threshold']\n",
    ")"
   ]
  },
  {
   "cell_type": "code",
   "execution_count": null,
   "metadata": {},
   "outputs": [
    {
     "name": "stdout",
     "output_type": "stream",
     "text": [
      "Len basis: 30\n",
      "Len basis: 30\n",
      "Len basis: 30\n",
      "Len basis: 30\n",
      "Len basis: 30\n",
      "Len basis: 30\n",
      "Len basis: 30\n",
      "Len basis: 30\n",
      "Len basis: 30\n",
      "Len basis: 30\n",
      "Len basis: 30\n",
      "Len basis: 30\n",
      "Len basis: 30\n",
      "Len basis: 30\n",
      "Len basis: 30\n",
      "Len basis: 30\n",
      "Len basis: 30\n",
      "Len basis: 30\n",
      "Len basis: 30\n",
      "Len basis: 30\n",
      "Len basis: 30\n",
      "Len basis: 30\n",
      "Len basis: 30\n",
      "Len basis: 30\n",
      "Len basis: 30\n",
      "Len basis: 30\n",
      "Len basis: 30\n",
      "Len basis: 30\n",
      "Len basis: 30\n",
      "Len basis: 30\n",
      "Len basis: 30\n",
      "Len basis: 30\n",
      "Len basis: 30\n",
      "Len basis: 30\n",
      "Len basis: 30\n",
      "Len basis: 30\n",
      "Len basis: 30\n",
      "Len basis: 30\n",
      "Len basis: 30\n",
      "Len basis: 30\n",
      "Len basis: 30\n",
      "Len basis: 30\n",
      "Len basis: 30\n",
      "Len basis: 30\n",
      "Len basis: 30\n"
     ]
    }
   ],
   "source": [
    "params = {\n",
    "    'num_init_seeds':7000,\n",
    "    'num_final_superpixels': 4000,\n",
    "    'n_masses': 300,\n",
    "    'num_of_tries': 5,\n",
    "    'red_channel_mean_threshold': 120,\n",
    "    'green_channel_mean_threshold': 80,\n",
    "    'blue_channel_mean_threshold': 70,\n",
    "    'rgb_threshold': (120, 80, 70)\n",
    "}\n",
    "result_folder, logfile_path = prepare_log(params)\n",
    "for i in range (2, 11):\n",
    "    segment_classify_test(\n",
    "    f'{i}.png',\n",
    "    result_folder,\n",
    "    params['num_init_seeds'],\n",
    "    params['num_final_superpixels'],\n",
    "    params['n_masses'],\n",
    "    params['num_of_tries'], \n",
    "    csv_logfile_path, \n",
    "    logfile_path,\n",
    "    params['rgb_threshold']\n",
    ")"
   ]
  },
  {
   "cell_type": "code",
   "execution_count": null,
   "metadata": {},
   "outputs": [
    {
     "name": "stdout",
     "output_type": "stream",
     "text": [
      "Len basis: 30\n",
      "Len basis: 30\n",
      "Len basis: 30\n",
      "Len basis: 30\n",
      "Len basis: 30\n"
     ]
    },
    {
     "ename": "",
     "evalue": "",
     "output_type": "error",
     "traceback": [
      "\u001b[1;31mThe Kernel crashed while executing code in the current cell or a previous cell. \n",
      "\u001b[1;31mPlease review the code in the cell(s) to identify a possible cause of the failure. \n",
      "\u001b[1;31mClick <a href='https://aka.ms/vscodeJupyterKernelCrash'>here</a> for more info. \n",
      "\u001b[1;31mView Jupyter <a href='command:jupyter.viewOutput'>log</a> for further details."
     ]
    }
   ],
   "source": [
    "params = {\n",
    "    'num_init_seeds':7000,\n",
    "    'num_final_superpixels': 4000,\n",
    "    'n_masses': 300,\n",
    "    'num_of_tries': 5,\n",
    "    'red_channel_mean_threshold': 110,\n",
    "    'green_channel_mean_threshold': 70,\n",
    "    'blue_channel_mean_threshold': 60,\n",
    "    'rgb_threshold': (110, 70, 60)\n",
    "}\n",
    "result_folder, logfile_path = prepare_log(params)\n",
    "for i in range (2, 11):\n",
    "    segment_classify_test(\n",
    "    f'{i}.png',\n",
    "    result_folder,\n",
    "    params['num_init_seeds'],\n",
    "    params['num_final_superpixels'],\n",
    "    params['n_masses'],\n",
    "    params['num_of_tries'], \n",
    "    csv_logfile_path, \n",
    "    logfile_path,\n",
    "    params['rgb_threshold']\n",
    ")"
   ]
  },
  {
   "cell_type": "code",
   "execution_count": null,
   "metadata": {},
   "outputs": [],
   "source": [
    "params = {\n",
    "    'num_init_seeds':7000,\n",
    "    'num_final_superpixels': 4000,\n",
    "    'n_masses': 300,\n",
    "    'num_of_tries': 5,\n",
    "    'red_channel_mean_threshold': 100,\n",
    "    'green_channel_mean_threshold': 60,\n",
    "    'blue_channel_mean_threshold': 50,\n",
    "    'rgb_threshold': (100, 60, 50)\n",
    "}\n",
    "result_folder, logfile_path = prepare_log(params)\n",
    "for i in range (2, 11):\n",
    "    segment_classify_test(\n",
    "    f'{i}.png',\n",
    "    result_folder,\n",
    "    params['num_init_seeds'],\n",
    "    params['num_final_superpixels'],\n",
    "    params['n_masses'],\n",
    "    params['num_of_tries'], \n",
    "    csv_logfile_path, \n",
    "    logfile_path,\n",
    "    params['rgb_threshold']\n",
    ")"
   ]
  },
  {
   "cell_type": "code",
   "execution_count": null,
   "metadata": {},
   "outputs": [],
   "source": [
    "params = {\n",
    "    'num_init_seeds':7000,\n",
    "    'num_final_superpixels': 4000,\n",
    "    'n_masses': 300,\n",
    "    'num_of_tries': 5,\n",
    "    'red_channel_mean_threshold': 90,\n",
    "    'green_channel_mean_threshold': 50,\n",
    "    'blue_channel_mean_threshold': 40,\n",
    "    'rgb_threshold': (90, 50, 40)\n",
    "}\n",
    "result_folder, logfile_path = prepare_log(params)\n",
    "for i in range (2, 11):\n",
    "    segment_classify_test(\n",
    "    f'{i}.png',\n",
    "    result_folder,\n",
    "    params['num_init_seeds'],\n",
    "    params['num_final_superpixels'],\n",
    "    params['n_masses'],\n",
    "    params['num_of_tries'], \n",
    "    csv_logfile_path, \n",
    "    logfile_path,\n",
    "    params['rgb_threshold']\n",
    ")"
   ]
  }
 ],
 "metadata": {
  "kernelspec": {
   "display_name": "Python 3",
   "language": "python",
   "name": "python3"
  },
  "language_info": {
   "codemirror_mode": {
    "name": "ipython",
    "version": 3
   },
   "file_extension": ".py",
   "mimetype": "text/x-python",
   "name": "python",
   "nbconvert_exporter": "python",
   "pygments_lexer": "ipython3",
   "version": "3.10.12"
  }
 },
 "nbformat": 4,
 "nbformat_minor": 2
}
